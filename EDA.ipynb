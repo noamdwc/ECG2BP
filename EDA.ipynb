{
 "cells": [
  {
   "cell_type": "code",
   "id": "initial_id",
   "metadata": {
    "collapsed": true,
    "ExecuteTime": {
     "end_time": "2025-06-06T15:47:58.522403Z",
     "start_time": "2025-06-06T15:47:58.517102Z"
    }
   },
   "source": [
    "import os\n",
    "import numpy as np\n",
    "import pandas as pd\n",
    "import matplotlib.pyplot as plt\n",
    "import seaborn as sns; sns.set()"
   ],
   "outputs": [],
   "execution_count": 5
  },
  {
   "metadata": {
    "ExecuteTime": {
     "end_time": "2025-06-06T15:49:48.174022Z",
     "start_time": "2025-06-06T15:49:48.169371Z"
    }
   },
   "cell_type": "code",
   "source": [
    "DATA_SAMPLE_PATH = 'data_sample'\n",
    "ECG_FILE_PATH = os.path.join(DATA_SAMPLE_PATH, 'ECG_II-20240912092357~20240912102356.csv')"
   ],
   "id": "6eed359fc2b6f172",
   "outputs": [],
   "execution_count": 13
  },
  {
   "metadata": {
    "ExecuteTime": {
     "end_time": "2025-06-06T15:53:04.131543Z",
     "start_time": "2025-06-06T15:53:03.991207Z"
    }
   },
   "cell_type": "code",
   "source": [
    "ecg = pd.read_csv(ECG_FILE_PATH,\n",
    "                  header=None,\n",
    "                  names=['datetime'] + list(range(500)),\n",
    "                  parse_dates=[\"datetime\"])"
   ],
   "id": "760bc01227f4d0fb",
   "outputs": [],
   "execution_count": 23
  },
  {
   "metadata": {
    "ExecuteTime": {
     "end_time": "2025-06-06T15:53:04.732089Z",
     "start_time": "2025-06-06T15:53:04.722784Z"
    }
   },
   "cell_type": "code",
   "source": "ecg['datetime'].diff().describe()",
   "id": "4938dfc14795736b",
   "outputs": [
    {
     "data": {
      "text/plain": [
       "count               3599\n",
       "mean     0 days 00:00:01\n",
       "std      0 days 00:00:00\n",
       "min      0 days 00:00:01\n",
       "25%      0 days 00:00:01\n",
       "50%      0 days 00:00:01\n",
       "75%      0 days 00:00:01\n",
       "max      0 days 00:00:01\n",
       "Name: datetime, dtype: object"
      ]
     },
     "execution_count": 24,
     "metadata": {},
     "output_type": "execute_result"
    }
   ],
   "execution_count": 24
  },
  {
   "metadata": {
    "ExecuteTime": {
     "end_time": "2025-06-06T15:53:50.627543Z",
     "start_time": "2025-06-06T15:53:50.620942Z"
    }
   },
   "cell_type": "code",
   "source": "ecg['datetime'].diff().iloc[-1].total_seconds()",
   "id": "49dea8a8db0805d4",
   "outputs": [
    {
     "data": {
      "text/plain": [
       "1.0"
      ]
     },
     "execution_count": 27,
     "metadata": {},
     "output_type": "execute_result"
    }
   ],
   "execution_count": 27
  },
  {
   "metadata": {},
   "cell_type": "code",
   "outputs": [],
   "execution_count": null,
   "source": "",
   "id": "d929a9f7e6d34de3"
  }
 ],
 "metadata": {
  "kernelspec": {
   "display_name": "Python 3",
   "language": "python",
   "name": "python3"
  },
  "language_info": {
   "codemirror_mode": {
    "name": "ipython",
    "version": 2
   },
   "file_extension": ".py",
   "mimetype": "text/x-python",
   "name": "python",
   "nbconvert_exporter": "python",
   "pygments_lexer": "ipython2",
   "version": "2.7.6"
  }
 },
 "nbformat": 4,
 "nbformat_minor": 5
}
